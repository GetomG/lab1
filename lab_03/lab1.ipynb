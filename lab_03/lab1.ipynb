{
 "cells": [
  {
   "attachments": {},
   "cell_type": "markdown",
   "metadata": {},
   "source": [
    "##Prerequisites"
   ]
  },
  {
   "cell_type": "code",
   "execution_count": 1,
   "metadata": {},
   "outputs": [],
   "source": [
    "from datetime import datetime\n",
    "import os"
   ]
  },
  {
   "cell_type": "code",
   "execution_count": 2,
   "metadata": {},
   "outputs": [],
   "source": [
    "#4 level filtering\n",
    "def validate_files(directory_path):\n",
    "    valid_files = []\n",
    "    valid_path = []\n",
    "\n",
    "    for filename in os.listdir(directory_path):\n",
    "        path = os.path.isdir(os.path.join(directory_path, filename))\n",
    "        if path == False:\n",
    "            items = filename.split(\"_\")\n",
    "            if ''.join(items[:3]) == \"DESCRIBELOGEVENTS\":\n",
    "                if len(items) > 4:\n",
    "                    try: \n",
    "                        datetime.strptime(items[3], date_format)\n",
    "                        datetime.strptime(items[4].split(\".\")[0], time_format)\n",
    "                    except ValueError:\n",
    "                        pass\n",
    "                    else:\n",
    "                        valid_files.append(filename)\n",
    "                        valid_path.append(os.path.join(directory_path, filename))\n",
    "\n",
    "    return valid_files, valid_path"
   ]
  },
  {
   "attachments": {},
   "cell_type": "markdown",
   "metadata": {},
   "source": [
    "### Input desired format and path"
   ]
  },
  {
   "cell_type": "code",
   "execution_count": 3,
   "metadata": {},
   "outputs": [],
   "source": [
    "# Example usage\n",
    "date_format = \"%Y%m%d\"\n",
    "time_format = \"%H%M%S\"\n",
    "directory_path = \"D:\\WorkSpace\\Python_Basic\\lab_03\\input\"\n",
    "validfile, validpath = validate_files(directory_path)"
   ]
  },
  {
   "cell_type": "code",
   "execution_count": 4,
   "metadata": {},
   "outputs": [
    {
     "name": "stdout",
     "output_type": "stream",
     "text": [
      "\n",
      " DESCRIBE_LOG_EVENTS_20230625_154002.txt\n",
      "\n",
      " DESCRIBE_LOG_EVENTS_20230625_160416.txt\n",
      "\n",
      " DESCRIBE_LOG_EVENTS_20230625_160558.txt\n",
      "\n",
      " D:\\WorkSpace\\Python_Basic\\lab_03\\input\\DESCRIBE_LOG_EVENTS_20230625_154002.txt\n",
      "\n",
      " D:\\WorkSpace\\Python_Basic\\lab_03\\input\\DESCRIBE_LOG_EVENTS_20230625_160416.txt\n",
      "\n",
      " D:\\WorkSpace\\Python_Basic\\lab_03\\input\\DESCRIBE_LOG_EVENTS_20230625_160558.txt\n"
     ]
    }
   ],
   "source": [
    "# Print the valid files\n",
    "for filename in validfile:\n",
    "    print(\"\\n\",filename)\n",
    "\n",
    "for filepath in validpath:\n",
    "    print(\"\\n\",filepath)"
   ]
  },
  {
   "attachments": {},
   "cell_type": "markdown",
   "metadata": {},
   "source": [
    "### Opening Files"
   ]
  },
  {
   "cell_type": "code",
   "execution_count": 82,
   "metadata": {},
   "outputs": [],
   "source": [
    "def openfile_loop (func):\n",
    "\n",
    "    for file in validpath:\n",
    "        DR = open(file, \"r\").read()\n",
    "        func\n",
    "    \n",
    "        return func"
   ]
  },
  {
   "attachments": {},
   "cell_type": "markdown",
   "metadata": {},
   "source": [
    "#### Count line using str match"
   ]
  },
  {
   "cell_type": "code",
   "execution_count": 83,
   "metadata": {},
   "outputs": [],
   "source": [
    "def find_str_in_a_line (str1,str2,DR):\n",
    "    count = 0\n",
    "    for lines in DR.splitlines():\n",
    "        if str1 in lines.split(\"|\") and str2 in lines.split(\"|\"):\n",
    "            count += 1\n",
    "\n",
    "        return (str1, str2, count)"
   ]
  },
  {
   "attachments": {},
   "cell_type": "markdown",
   "metadata": {},
   "source": [
    "### Example usages"
   ]
  },
  {
   "cell_type": "code",
   "execution_count": 84,
   "metadata": {},
   "outputs": [
    {
     "name": "stdout",
     "output_type": "stream",
     "text": [
      "m\n",
      "active\n",
      "0\n"
     ]
    }
   ],
   "source": [
    "for i in openfile_loop (find_str_in_a_line(\"m\",\"active\",\"DR\")):\n",
    "    print(i)"
   ]
  },
  {
   "cell_type": "code",
   "execution_count": 85,
   "metadata": {},
   "outputs": [
    {
     "ename": "TypeError",
     "evalue": "find_str_in_a_line() missing 1 required positional argument: 'DR'",
     "output_type": "error",
     "traceback": [
      "\u001b[1;31m---------------------------------------------------------------------------\u001b[0m",
      "\u001b[1;31mTypeError\u001b[0m                                 Traceback (most recent call last)",
      "Cell \u001b[1;32mIn[85], line 5\u001b[0m\n\u001b[0;32m      2\u001b[0m f1 \u001b[39m=\u001b[39m \u001b[39minput\u001b[39m(\u001b[39m\"\u001b[39m\u001b[39mPlease input first filter\u001b[39m\u001b[39m\"\u001b[39m)\n\u001b[0;32m      3\u001b[0m f2 \u001b[39m=\u001b[39m \u001b[39minput\u001b[39m(\u001b[39m\"\u001b[39m\u001b[39mPlease input second filter\u001b[39m\u001b[39m\"\u001b[39m)\n\u001b[1;32m----> 5\u001b[0m \u001b[39mfor\u001b[39;00m i \u001b[39min\u001b[39;00m find_str_in_a_line (f1,f2):\n\u001b[0;32m      6\u001b[0m     \u001b[39mprint\u001b[39m(i)\n",
      "\u001b[1;31mTypeError\u001b[0m: find_str_in_a_line() missing 1 required positional argument: 'DR'"
     ]
    }
   ],
   "source": [
    "#Filtering\n",
    "f1 = input(\"Please input first filter\")\n",
    "f2 = input(\"Please input second filter\")\n",
    "\n",
    "for i in find_str_in_a_line (f1,f2):\n",
    "    print(i)"
   ]
  },
  {
   "cell_type": "code",
   "execution_count": 93,
   "metadata": {},
   "outputs": [],
   "source": [
    "def openfile_loop(validpath, str1, str2):\n",
    "    results = []\n",
    "    for file in validpath:\n",
    "        DR = open(file, \"r\").read()\n",
    "        result = find_str_in_a_line(str1, str2, DR)\n",
    "        results.append(result)\n",
    "    return results\n",
    "\n",
    "def find_str_in_a_line(str1, str2, DR):\n",
    "    count = 0\n",
    "    for lines in DR.splitlines():\n",
    "        if str1 in lines.split(\"|\") and str2 in lines.split(\"|\"):\n",
    "            count += 1\n",
    "    return (str1, str2, count)"
   ]
  },
  {
   "cell_type": "code",
   "execution_count": 94,
   "metadata": {},
   "outputs": [
    {
     "name": "stdout",
     "output_type": "stream",
     "text": [
      "('m', 'active', 37347)\n",
      "('m', 'active', 37385)\n",
      "('m', 'active', 37606)\n"
     ]
    }
   ],
   "source": [
    "str1 = \"m\"\n",
    "str2 = \"active\"\n",
    "\n",
    "\n",
    "results = openfile_loop(validpath, str1, str2)\n",
    "for result in results:\n",
    "    print(result)\n"
   ]
  }
 ],
 "metadata": {
  "kernelspec": {
   "display_name": "Python 3",
   "language": "python",
   "name": "python3"
  },
  "language_info": {
   "codemirror_mode": {
    "name": "ipython",
    "version": 3
   },
   "file_extension": ".py",
   "mimetype": "text/x-python",
   "name": "python",
   "nbconvert_exporter": "python",
   "pygments_lexer": "ipython3",
   "version": "3.11.4"
  },
  "orig_nbformat": 4
 },
 "nbformat": 4,
 "nbformat_minor": 2
}
